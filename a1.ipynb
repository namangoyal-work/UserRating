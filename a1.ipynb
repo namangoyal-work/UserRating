{
 "cells": [
  {
   "cell_type": "code",
   "execution_count": 1,
   "id": "4899cb6f-d0e0-4a3d-ae3c-2add5867b46b",
   "metadata": {},
   "outputs": [
    {
     "name": "stderr",
     "output_type": "stream",
     "text": [
      "/Users/Sensei/.pyenv/versions/3.9.0/lib/python3.9/site-packages/pandas/compat/__init__.py:97: UserWarning: Could not import the lzma module. Your installed Python is incomplete. Attempting to use lzma compression will result in a RuntimeError.\n",
      "  warnings.warn(msg)\n"
     ]
    }
   ],
   "source": [
    "import pandas as pd\n",
    "import numpy as np\n",
    "import xgboost\n",
    "import matplotlib.pyplot as plt\n",
    "\n",
    "import nltk\n",
    "nltk.data.path.append(\"nltk_data\")"
   ]
  },
  {
   "cell_type": "markdown",
   "id": "4a5671c5-0def-4d82-8d34-0b3a398d8132",
   "metadata": {},
   "source": [
    "## EDA"
   ]
  },
  {
   "cell_type": "code",
   "execution_count": 51,
   "id": "d7b981ab-4abd-4925-8afb-93efdb19dfd4",
   "metadata": {},
   "outputs": [],
   "source": [
    "train = pd.read_csv(\"A1/train.csv\", header=None)\n",
    "test = pd.read_csv(\"A1/sample_input.csv\", header=None)"
   ]
  },
  {
   "cell_type": "code",
   "execution_count": 52,
   "id": "f97a0b71-15da-45f3-bee8-19fcba6d017a",
   "metadata": {},
   "outputs": [
    {
     "data": {
      "text/html": [
       "<div>\n",
       "<style scoped>\n",
       "    .dataframe tbody tr th:only-of-type {\n",
       "        vertical-align: middle;\n",
       "    }\n",
       "\n",
       "    .dataframe tbody tr th {\n",
       "        vertical-align: top;\n",
       "    }\n",
       "\n",
       "    .dataframe thead th {\n",
       "        text-align: right;\n",
       "    }\n",
       "</style>\n",
       "<table border=\"1\" class=\"dataframe\">\n",
       "  <thead>\n",
       "    <tr style=\"text-align: right;\">\n",
       "      <th></th>\n",
       "      <th>0</th>\n",
       "      <th>1</th>\n",
       "    </tr>\n",
       "  </thead>\n",
       "  <tbody>\n",
       "    <tr>\n",
       "      <th>0</th>\n",
       "      <td>Definitely runs long, wore 4.5 inch heels and ...</td>\n",
       "      <td>5</td>\n",
       "    </tr>\n",
       "    <tr>\n",
       "      <th>1</th>\n",
       "      <td>I think it's a little big/long in the torso.</td>\n",
       "      <td>5</td>\n",
       "    </tr>\n",
       "    <tr>\n",
       "      <th>2</th>\n",
       "      <td>This dress is amazing!  It has a built in like...</td>\n",
       "      <td>5</td>\n",
       "    </tr>\n",
       "    <tr>\n",
       "      <th>3</th>\n",
       "      <td>didn't even need a bra and I am a 34DD, was so...</td>\n",
       "      <td>5</td>\n",
       "    </tr>\n",
       "    <tr>\n",
       "      <th>4</th>\n",
       "      <td>I wore this to my birthday dinner and loved it...</td>\n",
       "      <td>4</td>\n",
       "    </tr>\n",
       "    <tr>\n",
       "      <th>5</th>\n",
       "      <td>It fit perfect i have (VSsizeD) boobs and i wo...</td>\n",
       "      <td>5</td>\n",
       "    </tr>\n",
       "    <tr>\n",
       "      <th>6</th>\n",
       "      <td>The material is a bit heavy, but it was fine f...</td>\n",
       "      <td>5</td>\n",
       "    </tr>\n",
       "    <tr>\n",
       "      <th>7</th>\n",
       "      <td>This gown was nice. It was a dress to glam up ...</td>\n",
       "      <td>3</td>\n",
       "    </tr>\n",
       "    <tr>\n",
       "      <th>8</th>\n",
       "      <td>It's actually a 18/20w which is why I say it r...</td>\n",
       "      <td>5</td>\n",
       "    </tr>\n",
       "    <tr>\n",
       "      <th>9</th>\n",
       "      <td>The dress is very comfortable with plenty of r...</td>\n",
       "      <td>4</td>\n",
       "    </tr>\n",
       "    <tr>\n",
       "      <th>10</th>\n",
       "      <td>This is a gorgeous dress that was PERFECT, exc...</td>\n",
       "      <td>4</td>\n",
       "    </tr>\n",
       "    <tr>\n",
       "      <th>11</th>\n",
       "      <td>The color was perfect. I thought it would be t...</td>\n",
       "      <td>4</td>\n",
       "    </tr>\n",
       "    <tr>\n",
       "      <th>12</th>\n",
       "      <td>I loved this dress! I chose to wear the smalle...</td>\n",
       "      <td>5</td>\n",
       "    </tr>\n",
       "    <tr>\n",
       "      <th>13</th>\n",
       "      <td>I wasn't sure about this jumpsuit when I first...</td>\n",
       "      <td>5</td>\n",
       "    </tr>\n",
       "    <tr>\n",
       "      <th>14</th>\n",
       "      <td>I had ordered a 4 in this dress and think that...</td>\n",
       "      <td>5</td>\n",
       "    </tr>\n",
       "    <tr>\n",
       "      <th>15</th>\n",
       "      <td>Loved this dress so much. Color was beautiful....</td>\n",
       "      <td>3</td>\n",
       "    </tr>\n",
       "    <tr>\n",
       "      <th>16</th>\n",
       "      <td>I got so many compliments on this dress. The f...</td>\n",
       "      <td>5</td>\n",
       "    </tr>\n",
       "    <tr>\n",
       "      <th>17</th>\n",
       "      <td>good navy blue color and not too shiny.  lengt...</td>\n",
       "      <td>3</td>\n",
       "    </tr>\n",
       "    <tr>\n",
       "      <th>18</th>\n",
       "      <td>Dress was easy to wear, had a nice weight to i...</td>\n",
       "      <td>4</td>\n",
       "    </tr>\n",
       "    <tr>\n",
       "      <th>19</th>\n",
       "      <td>It was very flattering makes your butt look gr...</td>\n",
       "      <td>5</td>\n",
       "    </tr>\n",
       "  </tbody>\n",
       "</table>\n",
       "</div>"
      ],
      "text/plain": [
       "                                                    0  1\n",
       "0   Definitely runs long, wore 4.5 inch heels and ...  5\n",
       "1       I think it's a little big/long in the torso.   5\n",
       "2   This dress is amazing!  It has a built in like...  5\n",
       "3   didn't even need a bra and I am a 34DD, was so...  5\n",
       "4   I wore this to my birthday dinner and loved it...  4\n",
       "5   It fit perfect i have (VSsizeD) boobs and i wo...  5\n",
       "6   The material is a bit heavy, but it was fine f...  5\n",
       "7   This gown was nice. It was a dress to glam up ...  3\n",
       "8   It's actually a 18/20w which is why I say it r...  5\n",
       "9   The dress is very comfortable with plenty of r...  4\n",
       "10  This is a gorgeous dress that was PERFECT, exc...  4\n",
       "11  The color was perfect. I thought it would be t...  4\n",
       "12  I loved this dress! I chose to wear the smalle...  5\n",
       "13  I wasn't sure about this jumpsuit when I first...  5\n",
       "14  I had ordered a 4 in this dress and think that...  5\n",
       "15  Loved this dress so much. Color was beautiful....  3\n",
       "16  I got so many compliments on this dress. The f...  5\n",
       "17  good navy blue color and not too shiny.  lengt...  3\n",
       "18  Dress was easy to wear, had a nice weight to i...  4\n",
       "19  It was very flattering makes your butt look gr...  5"
      ]
     },
     "execution_count": 52,
     "metadata": {},
     "output_type": "execute_result"
    }
   ],
   "source": [
    "train.head(20)"
   ]
  },
  {
   "cell_type": "code",
   "execution_count": 53,
   "id": "7afb46a5-71c9-48e7-b09e-de5e8a3d5659",
   "metadata": {},
   "outputs": [
    {
     "data": {
      "text/plain": [
       "(44, 0)"
      ]
     },
     "execution_count": 53,
     "metadata": {},
     "output_type": "execute_result"
    }
   ],
   "source": [
    "train[0].isna().sum(), train[1].isna().sum()"
   ]
  },
  {
   "cell_type": "code",
   "execution_count": 54,
   "id": "cdd1dd03-2c14-4970-89cc-54435457e1fe",
   "metadata": {},
   "outputs": [],
   "source": [
    "train = train.dropna()"
   ]
  },
  {
   "cell_type": "code",
   "execution_count": 55,
   "id": "201cff2f-c8dc-4b48-a059-92e365afc705",
   "metadata": {},
   "outputs": [
    {
     "data": {
      "text/plain": [
       "array([5, 4, 3, 2, 1])"
      ]
     },
     "execution_count": 55,
     "metadata": {},
     "output_type": "execute_result"
    }
   ],
   "source": [
    "train[1].unique()"
   ]
  },
  {
   "cell_type": "code",
   "execution_count": 56,
   "id": "fb8bd5e0-4219-47db-87d3-f3f94c9a6308",
   "metadata": {},
   "outputs": [
    {
     "data": {
      "text/plain": [
       "(array([  749.,     0.,  1984.,     0.,     0.,  7473.,     0., 37249.,\n",
       "            0., 87205.]),\n",
       " array([1. , 1.4, 1.8, 2.2, 2.6, 3. , 3.4, 3.8, 4.2, 4.6, 5. ]),\n",
       " <BarContainer object of 10 artists>)"
      ]
     },
     "execution_count": 56,
     "metadata": {},
     "output_type": "execute_result"
    },
    {
     "data": {
      "image/png": "[encoded data removed]",
      "text/plain": [
       "<Figure size 432x288 with 1 Axes>"
      ]
     },
     "metadata": {
      "needs_background": "light"
     },
     "output_type": "display_data"
    }
   ],
   "source": [
    "plt.hist(train[1])"
   ]
  },
  {
   "cell_type": "code",
   "execution_count": 57,
   "id": "6807ac18-334a-4ccc-8b8a-cc7ad7dd8a54",
   "metadata": {},
   "outputs": [
    {
     "data": {
      "text/plain": [
       "\"I could've worn the 6, but it was a bit tight around the bust. The 8 was a little roomy around my waist and hips, but much more comfortable. The color is beautiful! I recommend a statement necklace to add some sparkle and a bit of interest to the neckline.\""
      ]
     },
     "execution_count": 57,
     "metadata": {},
     "output_type": "execute_result"
    }
   ],
   "source": [
    "train.loc[60485][0]"
   ]
  },
  {
   "cell_type": "markdown",
   "id": "6b43cfac-e048-4cff-92bf-7e2b9ea09fca",
   "metadata": {},
   "source": [
    "I can't find this dataset anywhere. Has it been artificially super-upsampled?"
   ]
  },
  {
   "cell_type": "code",
   "execution_count": 58,
   "id": "e98477e9-55b9-4b99-968e-6cf9ea209f9b",
   "metadata": {},
   "outputs": [
    {
     "data": {
      "text/plain": [
       "0    134660\n",
       "1    134660\n",
       "dtype: int64"
      ]
     },
     "execution_count": 58,
     "metadata": {},
     "output_type": "execute_result"
    }
   ],
   "source": [
    "train.count()"
   ]
  },
  {
   "cell_type": "code",
   "execution_count": 59,
   "id": "70de5be5-59ed-4084-9b50-50670305a6f8",
   "metadata": {},
   "outputs": [
    {
     "data": {
      "text/plain": [
       "133800"
      ]
     },
     "execution_count": 59,
     "metadata": {},
     "output_type": "execute_result"
    }
   ],
   "source": [
    "len(train[0].unique())"
   ]
  },
  {
   "cell_type": "markdown",
   "id": "d41245c1-5adb-4b8b-9d3c-22f37a11e0c5",
   "metadata": {},
   "source": [
    "Okay, something seems off. Get everything which starts with the same prompt"
   ]
  },
  {
   "cell_type": "code",
   "execution_count": 60,
   "id": "11b5ee93-2484-4954-b0b3-d5014928310c",
   "metadata": {},
   "outputs": [
    {
     "data": {
      "text/plain": [
       "\"This dress is amazing!  It has a built in like corset so it holds you in in all the right places!  It also plumps you up in your chest!  The fabric is comfortable and looks just like the picture.  I wore this dress to a Mardi Gras ball and got more compliments on it than any other dress I have ever worn.  The tan lining makes the dress look sexy without being too provocative ! I usually wear an 8L but I chose the 6L as it fit a little better.  The length was perfect as I am 5'10 and wore 2' heals. I would buy this dress!\""
      ]
     },
     "execution_count": 60,
     "metadata": {},
     "output_type": "execute_result"
    }
   ],
   "source": [
    "train.loc[2][0]"
   ]
  },
  {
   "cell_type": "code",
   "execution_count": 61,
   "id": "267537c2-89a3-4798-970d-9142f423168a",
   "metadata": {},
   "outputs": [
    {
     "name": "stdout",
     "output_type": "stream",
     "text": [
      "47\n"
     ]
    },
    {
     "data": {
      "text/html": [
       "<div>\n",
       "<style scoped>\n",
       "    .dataframe tbody tr th:only-of-type {\n",
       "        vertical-align: middle;\n",
       "    }\n",
       "\n",
       "    .dataframe tbody tr th {\n",
       "        vertical-align: top;\n",
       "    }\n",
       "\n",
       "    .dataframe thead th {\n",
       "        text-align: right;\n",
       "    }\n",
       "</style>\n",
       "<table border=\"1\" class=\"dataframe\">\n",
       "  <thead>\n",
       "    <tr style=\"text-align: right;\">\n",
       "      <th></th>\n",
       "      <th>0</th>\n",
       "      <th>1</th>\n",
       "    </tr>\n",
       "  </thead>\n",
       "  <tbody>\n",
       "    <tr>\n",
       "      <th>15</th>\n",
       "      <td>Loved this dress so much. Color was beautiful....</td>\n",
       "      <td>3</td>\n",
       "    </tr>\n",
       "    <tr>\n",
       "      <th>5152</th>\n",
       "      <td>Loved this dress so much that I ended up purch...</td>\n",
       "      <td>5</td>\n",
       "    </tr>\n",
       "    <tr>\n",
       "      <th>11609</th>\n",
       "      <td>Loved this dress SO much.  While I've loved a ...</td>\n",
       "      <td>5</td>\n",
       "    </tr>\n",
       "    <tr>\n",
       "      <th>12291</th>\n",
       "      <td>Loved this dress so much. My husband wanted me...</td>\n",
       "      <td>5</td>\n",
       "    </tr>\n",
       "    <tr>\n",
       "      <th>12691</th>\n",
       "      <td>Loved this dress so much I wanted to keep it! ...</td>\n",
       "      <td>5</td>\n",
       "    </tr>\n",
       "  </tbody>\n",
       "</table>\n",
       "</div>"
      ],
      "text/plain": [
       "                                                       0  1\n",
       "15     Loved this dress so much. Color was beautiful....  3\n",
       "5152   Loved this dress so much that I ended up purch...  5\n",
       "11609  Loved this dress SO much.  While I've loved a ...  5\n",
       "12291  Loved this dress so much. My husband wanted me...  5\n",
       "12691  Loved this dress so much I wanted to keep it! ...  5"
      ]
     },
     "execution_count": 61,
     "metadata": {},
     "output_type": "execute_result"
    }
   ],
   "source": [
    "stw_1 = train.loc[train[0].str.lower().str.startswith(\"loved this dress so much\")]\n",
    "print(len(stw_1))\n",
    "stw_1.head()"
   ]
  },
  {
   "cell_type": "code",
   "execution_count": 62,
   "id": "6c00cb09-834c-466a-b63b-61031b46e164",
   "metadata": {},
   "outputs": [
    {
     "name": "stdout",
     "output_type": "stream",
     "text": [
      "272\n"
     ]
    },
    {
     "data": {
      "text/html": [
       "<div>\n",
       "<style scoped>\n",
       "    .dataframe tbody tr th:only-of-type {\n",
       "        vertical-align: middle;\n",
       "    }\n",
       "\n",
       "    .dataframe tbody tr th {\n",
       "        vertical-align: top;\n",
       "    }\n",
       "\n",
       "    .dataframe thead th {\n",
       "        text-align: right;\n",
       "    }\n",
       "</style>\n",
       "<table border=\"1\" class=\"dataframe\">\n",
       "  <thead>\n",
       "    <tr style=\"text-align: right;\">\n",
       "      <th></th>\n",
       "      <th>0</th>\n",
       "      <th>1</th>\n",
       "    </tr>\n",
       "  </thead>\n",
       "  <tbody>\n",
       "    <tr>\n",
       "      <th>2</th>\n",
       "      <td>This dress is amazing!  It has a built in like...</td>\n",
       "      <td>5</td>\n",
       "    </tr>\n",
       "    <tr>\n",
       "      <th>77</th>\n",
       "      <td>This dress is amazing! I was a bit unsure how ...</td>\n",
       "      <td>5</td>\n",
       "    </tr>\n",
       "    <tr>\n",
       "      <th>101</th>\n",
       "      <td>This dress is amazing. Runs small so I had to ...</td>\n",
       "      <td>5</td>\n",
       "    </tr>\n",
       "    <tr>\n",
       "      <th>373</th>\n",
       "      <td>This dress is amazing. Fit so well and made me...</td>\n",
       "      <td>5</td>\n",
       "    </tr>\n",
       "    <tr>\n",
       "      <th>933</th>\n",
       "      <td>This dress is amazing- it is fitted at the bus...</td>\n",
       "      <td>5</td>\n",
       "    </tr>\n",
       "  </tbody>\n",
       "</table>\n",
       "</div>"
      ],
      "text/plain": [
       "                                                     0  1\n",
       "2    This dress is amazing!  It has a built in like...  5\n",
       "77   This dress is amazing! I was a bit unsure how ...  5\n",
       "101  This dress is amazing. Runs small so I had to ...  5\n",
       "373  This dress is amazing. Fit so well and made me...  5\n",
       "933  This dress is amazing- it is fitted at the bus...  5"
      ]
     },
     "execution_count": 62,
     "metadata": {},
     "output_type": "execute_result"
    }
   ],
   "source": [
    "stw_2 = train.loc[train[0].str.lower().str.startswith(\"this dress is amazing\")]\n",
    "print(len(stw_2))\n",
    "stw_2.head()"
   ]
  },
  {
   "cell_type": "markdown",
   "id": "f369614e-bbd8-49ef-9a72-bbe39a92fe4e",
   "metadata": {},
   "source": [
    "that's a lot of matches... Hypothesis is that the dataset is auto-generated."
   ]
  },
  {
   "cell_type": "markdown",
   "id": "d6c994be-d756-4036-945c-962f5ac36eb7",
   "metadata": {},
   "source": [
    "let's look at some negative reviews and see if there's a pattern"
   ]
  },
  {
   "cell_type": "code",
   "execution_count": 63,
   "id": "90d1fc76-0194-4755-9c96-0d1d1579236d",
   "metadata": {},
   "outputs": [
    {
     "data": {
      "text/html": [
       "<div>\n",
       "<style scoped>\n",
       "    .dataframe tbody tr th:only-of-type {\n",
       "        vertical-align: middle;\n",
       "    }\n",
       "\n",
       "    .dataframe tbody tr th {\n",
       "        vertical-align: top;\n",
       "    }\n",
       "\n",
       "    .dataframe thead th {\n",
       "        text-align: right;\n",
       "    }\n",
       "</style>\n",
       "<table border=\"1\" class=\"dataframe\">\n",
       "  <thead>\n",
       "    <tr style=\"text-align: right;\">\n",
       "      <th></th>\n",
       "      <th>0</th>\n",
       "      <th>1</th>\n",
       "    </tr>\n",
       "  </thead>\n",
       "  <tbody>\n",
       "    <tr>\n",
       "      <th>292</th>\n",
       "      <td>Awkward fit for someone who has a small chest.</td>\n",
       "      <td>1</td>\n",
       "    </tr>\n",
       "    <tr>\n",
       "      <th>679</th>\n",
       "      <td>So I ordered this dress for dinner, but it was...</td>\n",
       "      <td>1</td>\n",
       "    </tr>\n",
       "    <tr>\n",
       "      <th>856</th>\n",
       "      <td>If you have supple boobs first off--Congrats!!...</td>\n",
       "      <td>1</td>\n",
       "    </tr>\n",
       "    <tr>\n",
       "      <th>867</th>\n",
       "      <td>The fabric would be great for a cool evening.</td>\n",
       "      <td>1</td>\n",
       "    </tr>\n",
       "    <tr>\n",
       "      <th>900</th>\n",
       "      <td>Even though I had an XS the romper was really ...</td>\n",
       "      <td>1</td>\n",
       "    </tr>\n",
       "    <tr>\n",
       "      <th>...</th>\n",
       "      <td>...</td>\n",
       "      <td>...</td>\n",
       "    </tr>\n",
       "    <tr>\n",
       "      <th>133815</th>\n",
       "      <td>The arms were way toooo small! I just knew I w...</td>\n",
       "      <td>1</td>\n",
       "    </tr>\n",
       "    <tr>\n",
       "      <th>133850</th>\n",
       "      <td>I ordered the XS ans Small for backup-- both w...</td>\n",
       "      <td>1</td>\n",
       "    </tr>\n",
       "    <tr>\n",
       "      <th>133874</th>\n",
       "      <td>I am 5'7'', and this dress was very long and c...</td>\n",
       "      <td>1</td>\n",
       "    </tr>\n",
       "    <tr>\n",
       "      <th>133938</th>\n",
       "      <td>There is a big piece of fabric that drapes dow...</td>\n",
       "      <td>1</td>\n",
       "    </tr>\n",
       "    <tr>\n",
       "      <th>134147</th>\n",
       "      <td>If you have large boobs do not rent this dress...</td>\n",
       "      <td>1</td>\n",
       "    </tr>\n",
       "  </tbody>\n",
       "</table>\n",
       "<p>749 rows × 2 columns</p>\n",
       "</div>"
      ],
      "text/plain": [
       "                                                        0  1\n",
       "292        Awkward fit for someone who has a small chest.  1\n",
       "679     So I ordered this dress for dinner, but it was...  1\n",
       "856     If you have supple boobs first off--Congrats!!...  1\n",
       "867       The fabric would be great for a cool evening.    1\n",
       "900     Even though I had an XS the romper was really ...  1\n",
       "...                                                   ... ..\n",
       "133815  The arms were way toooo small! I just knew I w...  1\n",
       "133850  I ordered the XS ans Small for backup-- both w...  1\n",
       "133874  I am 5'7'', and this dress was very long and c...  1\n",
       "133938  There is a big piece of fabric that drapes dow...  1\n",
       "134147  If you have large boobs do not rent this dress...  1\n",
       "\n",
       "[749 rows x 2 columns]"
      ]
     },
     "execution_count": 63,
     "metadata": {},
     "output_type": "execute_result"
    }
   ],
   "source": [
    "train.loc[(train[1] == 1) | (train[1] == 1)]"
   ]
  },
  {
   "cell_type": "code",
   "execution_count": 100,
   "id": "5081c59a-9593-4769-a75f-5ccdabfffe47",
   "metadata": {},
   "outputs": [
    {
     "data": {
      "text/html": [
       "<div>\n",
       "<style scoped>\n",
       "    .dataframe tbody tr th:only-of-type {\n",
       "        vertical-align: middle;\n",
       "    }\n",
       "\n",
       "    .dataframe tbody tr th {\n",
       "        vertical-align: top;\n",
       "    }\n",
       "\n",
       "    .dataframe thead th {\n",
       "        text-align: right;\n",
       "    }\n",
       "</style>\n",
       "<table border=\"1\" class=\"dataframe\">\n",
       "  <thead>\n",
       "    <tr style=\"text-align: right;\">\n",
       "      <th></th>\n",
       "      <th>0</th>\n",
       "      <th>1</th>\n",
       "      <th>2</th>\n",
       "      <th>3</th>\n",
       "      <th>4</th>\n",
       "      <th>5</th>\n",
       "      <th>6</th>\n",
       "      <th>7</th>\n",
       "      <th>8</th>\n",
       "    </tr>\n",
       "  </thead>\n",
       "  <tbody>\n",
       "    <tr>\n",
       "      <th>12264</th>\n",
       "      <td>I am typically a 4 on top and 6 on bottom. I h...</td>\n",
       "      <td>4</td>\n",
       "      <td>[I, am, typically, a, 4, on, top, and, 6, on, ...</td>\n",
       "      <td>[(I, PRP), (am, VBP), (typically, RB), (a, DT)...</td>\n",
       "      <td>[(POS, i, PRP), (POS, am, VBP), (POS, typicall...</td>\n",
       "      <td>[(POS, typically, RB), (POS, 4, CD), (POS, top...</td>\n",
       "      <td>[(POS, typically, RB), (POS, 4, CD), (POS, top...</td>\n",
       "      <td>[(POS, typically, RB), (POS, 4, CD), (POS, top...</td>\n",
       "      <td>[POS_typically_RB, POS_4_CD, POS_top_NN, POS_6...</td>\n",
       "    </tr>\n",
       "    <tr>\n",
       "      <th>29384</th>\n",
       "      <td>I am so in love with this dress that I've alre...</td>\n",
       "      <td>5</td>\n",
       "      <td>[I, am, so, in, love, with, this, dress, that,...</td>\n",
       "      <td>[(I, PRP), (am, VBP), (so, RB), (in, IN), (lov...</td>\n",
       "      <td>[(POS, i, PRP), (POS, am, VBP), (POS, so, RB),...</td>\n",
       "      <td>[(POS, love, NN), (POS, dress, NN), (POS, 've,...</td>\n",
       "      <td>[(POS, love, NN), (POS, dress, NN), (POS, 've,...</td>\n",
       "      <td>[(POS, love, NN), (POS, dress, NN), (POS, 've,...</td>\n",
       "      <td>[POS_love_NN, POS_dress_NN, POS_'ve_VBP, POS_a...</td>\n",
       "    </tr>\n",
       "    <tr>\n",
       "      <th>15643</th>\n",
       "      <td>I am a B cup and couldn't fill it out. I ended...</td>\n",
       "      <td>4</td>\n",
       "      <td>[I, am, a, B, cup, and, could, n't, fill, it, ...</td>\n",
       "      <td>[(I, PRP), (am, VBP), (a, DT), (B, NNP), (cup,...</td>\n",
       "      <td>[(POS, i, PRP), (POS, am, VBP), (POS, a, DT), ...</td>\n",
       "      <td>[(POS, b, NNP), (POS, cup, NN), (POS, could, M...</td>\n",
       "      <td>[(POS, b, NNP), (POS, cup, NN), (POS, could, M...</td>\n",
       "      <td>[(POS, b, NNP), (POS, cup, NN), (POS, could, M...</td>\n",
       "      <td>[POS_b_NNP, POS_cup_NN, POS_could_MD, POS_n't_...</td>\n",
       "    </tr>\n",
       "    <tr>\n",
       "      <th>1338</th>\n",
       "      <td>I am 5\"4' and didn't like the way this looked....</td>\n",
       "      <td>2</td>\n",
       "      <td>[I, am, 5, '', 4, ', and, did, n't, like, the,...</td>\n",
       "      <td>[(I, PRP), (am, VBP), (5, CD), ('', ''), (4, C...</td>\n",
       "      <td>[(POS, i, PRP), (POS, am, VBP), (POS, 5, CD), ...</td>\n",
       "      <td>[(POS, 5, CD), (POS, '', ''), (POS, 4, CD), (P...</td>\n",
       "      <td>[(POS, 5, CD), (POS, '', ''), (POS, 4, CD), (P...</td>\n",
       "      <td>[(POS, 5, CD), (POS, '', ''), (POS, 4, CD), (P...</td>\n",
       "      <td>[POS_5_CD, POS_''_'', POS_4_CD, POS_'_POS, POS...</td>\n",
       "    </tr>\n",
       "    <tr>\n",
       "      <th>19064</th>\n",
       "      <td>I am normally a 6/8 and a medium, but this was...</td>\n",
       "      <td>5</td>\n",
       "      <td>[I, am, normally, a, 6/8, and, a, medium, ,, b...</td>\n",
       "      <td>[(I, PRP), (am, VBP), (normally, RB), (a, DT),...</td>\n",
       "      <td>[(POS, i, PRP), (POS, am, VBP), (POS, normally...</td>\n",
       "      <td>[(POS, normally, RB), (POS, 6/8, CD), (POS, me...</td>\n",
       "      <td>[(POS, normally, RB), (POS, 6/8, CD), (POS, me...</td>\n",
       "      <td>[(POS, normally, RB), (POS, 6/8, CD), (POS, me...</td>\n",
       "      <td>[POS_normally_RB, POS_6/8_CD, POS_medium_NN, P...</td>\n",
       "    </tr>\n",
       "    <tr>\n",
       "      <th>...</th>\n",
       "      <td>...</td>\n",
       "      <td>...</td>\n",
       "      <td>...</td>\n",
       "      <td>...</td>\n",
       "      <td>...</td>\n",
       "      <td>...</td>\n",
       "      <td>...</td>\n",
       "      <td>...</td>\n",
       "      <td>...</td>\n",
       "    </tr>\n",
       "    <tr>\n",
       "      <th>8155</th>\n",
       "      <td>I am usually a Medium (or 6), but I wore this ...</td>\n",
       "      <td>4</td>\n",
       "      <td>[I, am, usually, a, Medium, (, or, 6, ), ,, bu...</td>\n",
       "      <td>[(I, PRP), (am, VBP), (usually, RB), (a, DT), ...</td>\n",
       "      <td>[(POS, i, PRP), (POS, am, VBP), (POS, usually,...</td>\n",
       "      <td>[(POS, usually, RB), (POS, medium, NN), (POS, ...</td>\n",
       "      <td>[(POS, usually, RB), (POS, medium, NN), (POS, ...</td>\n",
       "      <td>[(POS, usually, RB), (POS, medium, NN), (POS, ...</td>\n",
       "      <td>[POS_usually_RB, POS_medium_NN, POS_(_(, POS_6...</td>\n",
       "    </tr>\n",
       "    <tr>\n",
       "      <th>6546</th>\n",
       "      <td>I am a size 14 in jeans. I am 5'4 and 225lbs. ...</td>\n",
       "      <td>3</td>\n",
       "      <td>[I, am, a, size, 14, in, jeans, ., I, am, 5, '...</td>\n",
       "      <td>[(I, PRP), (am, VBP), (a, DT), (size, NN), (14...</td>\n",
       "      <td>[(POS, i, PRP), (POS, am, VBP), (POS, a, DT), ...</td>\n",
       "      <td>[(POS, size, NN), (POS, 14, CD), (POS, jeans, ...</td>\n",
       "      <td>[(POS, size, NN), (POS, 14, CD), (POS, jean, N...</td>\n",
       "      <td>[(POS, size, NN), (POS, 14, CD), (POS, jean, N...</td>\n",
       "      <td>[POS_size_NN, POS_14_CD, POS_jean_NNS, POS_._....</td>\n",
       "    </tr>\n",
       "    <tr>\n",
       "      <th>17043</th>\n",
       "      <td>I am 5'8\" the regular length on this dress was...</td>\n",
       "      <td>4</td>\n",
       "      <td>[I, am, 5, ', 8, '', the, regular, length, on,...</td>\n",
       "      <td>[(I, PRP), (am, VBP), (5, CD), (', POS), (8, C...</td>\n",
       "      <td>[(POS, i, PRP), (POS, am, VBP), (POS, 5, CD), ...</td>\n",
       "      <td>[(POS, 5, CD), (POS, ', POS), (POS, 8, CD), (P...</td>\n",
       "      <td>[(POS, 5, CD), (POS, ', POS), (POS, 8, CD), (P...</td>\n",
       "      <td>[(POS, 5, CD), (POS, ', POS), (POS, 8, CD), (P...</td>\n",
       "      <td>[POS_5_CD, POS_'_POS, POS_8_CD, POS_''_'', POS...</td>\n",
       "    </tr>\n",
       "    <tr>\n",
       "      <th>26370</th>\n",
       "      <td>I am 5'1 and 130lb.  I ordered the small and a...</td>\n",
       "      <td>5</td>\n",
       "      <td>[I, am, 5, ', 1, and, 130lb, ., I, ordered, th...</td>\n",
       "      <td>[(I, PRP), (am, VBP), (5, CD), (', POS), (1, C...</td>\n",
       "      <td>[(POS, i, PRP), (POS, am, VBP), (POS, 5, CD), ...</td>\n",
       "      <td>[(POS, 5, CD), (POS, ', POS), (POS, 1, CD), (P...</td>\n",
       "      <td>[(POS, 5, CD), (POS, ', POS), (POS, 1, CD), (P...</td>\n",
       "      <td>[(POS, 5, CD), (POS, ', POS), (POS, 1, CD), (P...</td>\n",
       "      <td>[POS_5_CD, POS_'_POS, POS_1_CD, POS_130lb_CD, ...</td>\n",
       "    </tr>\n",
       "    <tr>\n",
       "      <th>1636</th>\n",
       "      <td>I am usually a medium up top, but I have more ...</td>\n",
       "      <td>2</td>\n",
       "      <td>[I, am, usually, a, medium, up, top, ,, but, I...</td>\n",
       "      <td>[(I, PRP), (am, VBP), (usually, RB), (a, DT), ...</td>\n",
       "      <td>[(POS, i, PRP), (POS, am, VBP), (POS, usually,...</td>\n",
       "      <td>[(POS, usually, RB), (POS, medium, NN), (POS, ...</td>\n",
       "      <td>[(POS, usually, RB), (POS, medium, NN), (POS, ...</td>\n",
       "      <td>[(POS, usually, RB), (POS, medium, NN), (POS, ...</td>\n",
       "      <td>[POS_usually_RB, POS_medium_NN, POS_top_JJ, PO...</td>\n",
       "    </tr>\n",
       "  </tbody>\n",
       "</table>\n",
       "<p>447 rows × 9 columns</p>\n",
       "</div>"
      ],
      "text/plain": [
       "                                                       0  1  \\\n",
       "12264  I am typically a 4 on top and 6 on bottom. I h...  4   \n",
       "29384  I am so in love with this dress that I've alre...  5   \n",
       "15643  I am a B cup and couldn't fill it out. I ended...  4   \n",
       "1338   I am 5\"4' and didn't like the way this looked....  2   \n",
       "19064  I am normally a 6/8 and a medium, but this was...  5   \n",
       "...                                                  ... ..   \n",
       "8155   I am usually a Medium (or 6), but I wore this ...  4   \n",
       "6546   I am a size 14 in jeans. I am 5'4 and 225lbs. ...  3   \n",
       "17043  I am 5'8\" the regular length on this dress was...  4   \n",
       "26370  I am 5'1 and 130lb.  I ordered the small and a...  5   \n",
       "1636   I am usually a medium up top, but I have more ...  2   \n",
       "\n",
       "                                                       2  \\\n",
       "12264  [I, am, typically, a, 4, on, top, and, 6, on, ...   \n",
       "29384  [I, am, so, in, love, with, this, dress, that,...   \n",
       "15643  [I, am, a, B, cup, and, could, n't, fill, it, ...   \n",
       "1338   [I, am, 5, '', 4, ', and, did, n't, like, the,...   \n",
       "19064  [I, am, normally, a, 6/8, and, a, medium, ,, b...   \n",
       "...                                                  ...   \n",
       "8155   [I, am, usually, a, Medium, (, or, 6, ), ,, bu...   \n",
       "6546   [I, am, a, size, 14, in, jeans, ., I, am, 5, '...   \n",
       "17043  [I, am, 5, ', 8, '', the, regular, length, on,...   \n",
       "26370  [I, am, 5, ', 1, and, 130lb, ., I, ordered, th...   \n",
       "1636   [I, am, usually, a, medium, up, top, ,, but, I...   \n",
       "\n",
       "                                                       3  \\\n",
       "12264  [(I, PRP), (am, VBP), (typically, RB), (a, DT)...   \n",
       "29384  [(I, PRP), (am, VBP), (so, RB), (in, IN), (lov...   \n",
       "15643  [(I, PRP), (am, VBP), (a, DT), (B, NNP), (cup,...   \n",
       "1338   [(I, PRP), (am, VBP), (5, CD), ('', ''), (4, C...   \n",
       "19064  [(I, PRP), (am, VBP), (normally, RB), (a, DT),...   \n",
       "...                                                  ...   \n",
       "8155   [(I, PRP), (am, VBP), (usually, RB), (a, DT), ...   \n",
       "6546   [(I, PRP), (am, VBP), (a, DT), (size, NN), (14...   \n",
       "17043  [(I, PRP), (am, VBP), (5, CD), (', POS), (8, C...   \n",
       "26370  [(I, PRP), (am, VBP), (5, CD), (', POS), (1, C...   \n",
       "1636   [(I, PRP), (am, VBP), (usually, RB), (a, DT), ...   \n",
       "\n",
       "                                                       4  \\\n",
       "12264  [(POS, i, PRP), (POS, am, VBP), (POS, typicall...   \n",
       "29384  [(POS, i, PRP), (POS, am, VBP), (POS, so, RB),...   \n",
       "15643  [(POS, i, PRP), (POS, am, VBP), (POS, a, DT), ...   \n",
       "1338   [(POS, i, PRP), (POS, am, VBP), (POS, 5, CD), ...   \n",
       "19064  [(POS, i, PRP), (POS, am, VBP), (POS, normally...   \n",
       "...                                                  ...   \n",
       "8155   [(POS, i, PRP), (POS, am, VBP), (POS, usually,...   \n",
       "6546   [(POS, i, PRP), (POS, am, VBP), (POS, a, DT), ...   \n",
       "17043  [(POS, i, PRP), (POS, am, VBP), (POS, 5, CD), ...   \n",
       "26370  [(POS, i, PRP), (POS, am, VBP), (POS, 5, CD), ...   \n",
       "1636   [(POS, i, PRP), (POS, am, VBP), (POS, usually,...   \n",
       "\n",
       "                                                       5  \\\n",
       "12264  [(POS, typically, RB), (POS, 4, CD), (POS, top...   \n",
       "29384  [(POS, love, NN), (POS, dress, NN), (POS, 've,...   \n",
       "15643  [(POS, b, NNP), (POS, cup, NN), (POS, could, M...   \n",
       "1338   [(POS, 5, CD), (POS, '', ''), (POS, 4, CD), (P...   \n",
       "19064  [(POS, normally, RB), (POS, 6/8, CD), (POS, me...   \n",
       "...                                                  ...   \n",
       "8155   [(POS, usually, RB), (POS, medium, NN), (POS, ...   \n",
       "6546   [(POS, size, NN), (POS, 14, CD), (POS, jeans, ...   \n",
       "17043  [(POS, 5, CD), (POS, ', POS), (POS, 8, CD), (P...   \n",
       "26370  [(POS, 5, CD), (POS, ', POS), (POS, 1, CD), (P...   \n",
       "1636   [(POS, usually, RB), (POS, medium, NN), (POS, ...   \n",
       "\n",
       "                                                       6  \\\n",
       "12264  [(POS, typically, RB), (POS, 4, CD), (POS, top...   \n",
       "29384  [(POS, love, NN), (POS, dress, NN), (POS, 've,...   \n",
       "15643  [(POS, b, NNP), (POS, cup, NN), (POS, could, M...   \n",
       "1338   [(POS, 5, CD), (POS, '', ''), (POS, 4, CD), (P...   \n",
       "19064  [(POS, normally, RB), (POS, 6/8, CD), (POS, me...   \n",
       "...                                                  ...   \n",
       "8155   [(POS, usually, RB), (POS, medium, NN), (POS, ...   \n",
       "6546   [(POS, size, NN), (POS, 14, CD), (POS, jean, N...   \n",
       "17043  [(POS, 5, CD), (POS, ', POS), (POS, 8, CD), (P...   \n",
       "26370  [(POS, 5, CD), (POS, ', POS), (POS, 1, CD), (P...   \n",
       "1636   [(POS, usually, RB), (POS, medium, NN), (POS, ...   \n",
       "\n",
       "                                                       7  \\\n",
       "12264  [(POS, typically, RB), (POS, 4, CD), (POS, top...   \n",
       "29384  [(POS, love, NN), (POS, dress, NN), (POS, 've,...   \n",
       "15643  [(POS, b, NNP), (POS, cup, NN), (POS, could, M...   \n",
       "1338   [(POS, 5, CD), (POS, '', ''), (POS, 4, CD), (P...   \n",
       "19064  [(POS, normally, RB), (POS, 6/8, CD), (POS, me...   \n",
       "...                                                  ...   \n",
       "8155   [(POS, usually, RB), (POS, medium, NN), (POS, ...   \n",
       "6546   [(POS, size, NN), (POS, 14, CD), (POS, jean, N...   \n",
       "17043  [(POS, 5, CD), (POS, ', POS), (POS, 8, CD), (P...   \n",
       "26370  [(POS, 5, CD), (POS, ', POS), (POS, 1, CD), (P...   \n",
       "1636   [(POS, usually, RB), (POS, medium, NN), (POS, ...   \n",
       "\n",
       "                                                       8  \n",
       "12264  [POS_typically_RB, POS_4_CD, POS_top_NN, POS_6...  \n",
       "29384  [POS_love_NN, POS_dress_NN, POS_'ve_VBP, POS_a...  \n",
       "15643  [POS_b_NNP, POS_cup_NN, POS_could_MD, POS_n't_...  \n",
       "1338   [POS_5_CD, POS_''_'', POS_4_CD, POS_'_POS, POS...  \n",
       "19064  [POS_normally_RB, POS_6/8_CD, POS_medium_NN, P...  \n",
       "...                                                  ...  \n",
       "8155   [POS_usually_RB, POS_medium_NN, POS_(_(, POS_6...  \n",
       "6546   [POS_size_NN, POS_14_CD, POS_jean_NNS, POS_._....  \n",
       "17043  [POS_5_CD, POS_'_POS, POS_8_CD, POS_''_'', POS...  \n",
       "26370  [POS_5_CD, POS_'_POS, POS_1_CD, POS_130lb_CD, ...  \n",
       "1636   [POS_usually_RB, POS_medium_NN, POS_top_JJ, PO...  \n",
       "\n",
       "[447 rows x 9 columns]"
      ]
     },
     "execution_count": 100,
     "metadata": {},
     "output_type": "execute_result"
    }
   ],
   "source": [
    "train.loc[train[0].str.lower().str.startswith('i am')]"
   ]
  },
  {
   "cell_type": "code",
   "execution_count": 65,
   "id": "b6387241-b50b-4f22-8828-f21138779544",
   "metadata": {},
   "outputs": [
    {
     "data": {
      "text/html": [
       "<div>\n",
       "<style scoped>\n",
       "    .dataframe tbody tr th:only-of-type {\n",
       "        vertical-align: middle;\n",
       "    }\n",
       "\n",
       "    .dataframe tbody tr th {\n",
       "        vertical-align: top;\n",
       "    }\n",
       "\n",
       "    .dataframe thead th {\n",
       "        text-align: right;\n",
       "    }\n",
       "</style>\n",
       "<table border=\"1\" class=\"dataframe\">\n",
       "  <thead>\n",
       "    <tr style=\"text-align: right;\">\n",
       "      <th></th>\n",
       "      <th>0</th>\n",
       "      <th>1</th>\n",
       "    </tr>\n",
       "  </thead>\n",
       "  <tbody>\n",
       "    <tr>\n",
       "      <th>10</th>\n",
       "      <td>This is a gorgeous dress that was PERFECT, exc...</td>\n",
       "      <td>4</td>\n",
       "    </tr>\n",
       "    <tr>\n",
       "      <th>198</th>\n",
       "      <td>This is a very pretty dress. The back is sexy ...</td>\n",
       "      <td>5</td>\n",
       "    </tr>\n",
       "    <tr>\n",
       "      <th>289</th>\n",
       "      <td>This is an incredibly flattering, well made dr...</td>\n",
       "      <td>5</td>\n",
       "    </tr>\n",
       "    <tr>\n",
       "      <th>313</th>\n",
       "      <td>This is a great top, very stylish but somewhat...</td>\n",
       "      <td>4</td>\n",
       "    </tr>\n",
       "    <tr>\n",
       "      <th>432</th>\n",
       "      <td>This is a no fuss, easy to wear, beautiful dre...</td>\n",
       "      <td>5</td>\n",
       "    </tr>\n",
       "    <tr>\n",
       "      <th>...</th>\n",
       "      <td>...</td>\n",
       "      <td>...</td>\n",
       "    </tr>\n",
       "    <tr>\n",
       "      <th>134442</th>\n",
       "      <td>This is a great dress! The fabric color and te...</td>\n",
       "      <td>4</td>\n",
       "    </tr>\n",
       "    <tr>\n",
       "      <th>134476</th>\n",
       "      <td>This is a great top and you could even size do...</td>\n",
       "      <td>5</td>\n",
       "    </tr>\n",
       "    <tr>\n",
       "      <th>134483</th>\n",
       "      <td>This is a very causal and comfortable top! I l...</td>\n",
       "      <td>5</td>\n",
       "    </tr>\n",
       "    <tr>\n",
       "      <th>134493</th>\n",
       "      <td>This is probably because of my short/petit fra...</td>\n",
       "      <td>3</td>\n",
       "    </tr>\n",
       "    <tr>\n",
       "      <th>134570</th>\n",
       "      <td>This is a beautiful dress.  I did not experien...</td>\n",
       "      <td>5</td>\n",
       "    </tr>\n",
       "  </tbody>\n",
       "</table>\n",
       "<p>2265 rows × 2 columns</p>\n",
       "</div>"
      ],
      "text/plain": [
       "                                                        0  1\n",
       "10      This is a gorgeous dress that was PERFECT, exc...  4\n",
       "198     This is a very pretty dress. The back is sexy ...  5\n",
       "289     This is an incredibly flattering, well made dr...  5\n",
       "313     This is a great top, very stylish but somewhat...  4\n",
       "432     This is a no fuss, easy to wear, beautiful dre...  5\n",
       "...                                                   ... ..\n",
       "134442  This is a great dress! The fabric color and te...  4\n",
       "134476  This is a great top and you could even size do...  5\n",
       "134483  This is a very causal and comfortable top! I l...  5\n",
       "134493  This is probably because of my short/petit fra...  3\n",
       "134570  This is a beautiful dress.  I did not experien...  5\n",
       "\n",
       "[2265 rows x 2 columns]"
      ]
     },
     "execution_count": 65,
     "metadata": {},
     "output_type": "execute_result"
    }
   ],
   "source": [
    "train.loc[train[0].str.lower().str.startswith('this is')]"
   ]
  },
  {
   "cell_type": "code",
   "execution_count": 66,
   "id": "ea6fdc2e-ddb0-46a6-a541-13c51ddd434d",
   "metadata": {},
   "outputs": [
    {
     "data": {
      "text/html": [
       "<div>\n",
       "<style scoped>\n",
       "    .dataframe tbody tr th:only-of-type {\n",
       "        vertical-align: middle;\n",
       "    }\n",
       "\n",
       "    .dataframe tbody tr th {\n",
       "        vertical-align: top;\n",
       "    }\n",
       "\n",
       "    .dataframe thead th {\n",
       "        text-align: right;\n",
       "    }\n",
       "</style>\n",
       "<table border=\"1\" class=\"dataframe\">\n",
       "  <thead>\n",
       "    <tr style=\"text-align: right;\">\n",
       "      <th></th>\n",
       "      <th>0</th>\n",
       "      <th>1</th>\n",
       "    </tr>\n",
       "  </thead>\n",
       "  <tbody>\n",
       "    <tr>\n",
       "      <th>349</th>\n",
       "      <td>It fit well in the bust area, but was too tigh...</td>\n",
       "      <td>3</td>\n",
       "    </tr>\n",
       "    <tr>\n",
       "      <th>2474</th>\n",
       "      <td>it fit true to size</td>\n",
       "      <td>3</td>\n",
       "    </tr>\n",
       "    <tr>\n",
       "      <th>5253</th>\n",
       "      <td>It fits very large in the waist. I normally we...</td>\n",
       "      <td>3</td>\n",
       "    </tr>\n",
       "    <tr>\n",
       "      <th>5929</th>\n",
       "      <td>It fit everywhere except my hips.  It was a bi...</td>\n",
       "      <td>3</td>\n",
       "    </tr>\n",
       "    <tr>\n",
       "      <th>11273</th>\n",
       "      <td>It fit well. Under the arm, it was a little sc...</td>\n",
       "      <td>3</td>\n",
       "    </tr>\n",
       "    <tr>\n",
       "      <th>22411</th>\n",
       "      <td>it fit fine</td>\n",
       "      <td>3</td>\n",
       "    </tr>\n",
       "    <tr>\n",
       "      <th>26579</th>\n",
       "      <td>It fit like a glove, but the front skirt porti...</td>\n",
       "      <td>3</td>\n",
       "    </tr>\n",
       "    <tr>\n",
       "      <th>31110</th>\n",
       "      <td>It fit perfectly!</td>\n",
       "      <td>3</td>\n",
       "    </tr>\n",
       "    <tr>\n",
       "      <th>38161</th>\n",
       "      <td>It fit true to size and was very comfortable f...</td>\n",
       "      <td>3</td>\n",
       "    </tr>\n",
       "    <tr>\n",
       "      <th>45637</th>\n",
       "      <td>It fit but it felt like a straight jacket.  It...</td>\n",
       "      <td>3</td>\n",
       "    </tr>\n",
       "    <tr>\n",
       "      <th>48879</th>\n",
       "      <td>It fit well.  I'm 5'5\" and I wore flat (flip f...</td>\n",
       "      <td>3</td>\n",
       "    </tr>\n",
       "    <tr>\n",
       "      <th>52061</th>\n",
       "      <td>It fit great in the chest area for my large bu...</td>\n",
       "      <td>3</td>\n",
       "    </tr>\n",
       "    <tr>\n",
       "      <th>52643</th>\n",
       "      <td>It fit well, and was comfortable.</td>\n",
       "      <td>3</td>\n",
       "    </tr>\n",
       "    <tr>\n",
       "      <th>57268</th>\n",
       "      <td>It fit like a glove and was a beautiful materi...</td>\n",
       "      <td>3</td>\n",
       "    </tr>\n",
       "    <tr>\n",
       "      <th>57929</th>\n",
       "      <td>It fit well but make sure you have some great ...</td>\n",
       "      <td>3</td>\n",
       "    </tr>\n",
       "    <tr>\n",
       "      <th>59556</th>\n",
       "      <td>It fit great.</td>\n",
       "      <td>3</td>\n",
       "    </tr>\n",
       "    <tr>\n",
       "      <th>61700</th>\n",
       "      <td>It fit TTS. \\nHowever, I would not recommend i...</td>\n",
       "      <td>3</td>\n",
       "    </tr>\n",
       "    <tr>\n",
       "      <th>62533</th>\n",
       "      <td>It fit fine. It actually took away from my jum...</td>\n",
       "      <td>3</td>\n",
       "    </tr>\n",
       "    <tr>\n",
       "      <th>63631</th>\n",
       "      <td>It fits nicely. The fabric is a bit shiny. It ...</td>\n",
       "      <td>3</td>\n",
       "    </tr>\n",
       "    <tr>\n",
       "      <th>64993</th>\n",
       "      <td>it fit fine but it was my backup and i went wi...</td>\n",
       "      <td>3</td>\n",
       "    </tr>\n",
       "    <tr>\n",
       "      <th>66573</th>\n",
       "      <td>It fits true to size and is just the right len...</td>\n",
       "      <td>3</td>\n",
       "    </tr>\n",
       "    <tr>\n",
       "      <th>72604</th>\n",
       "      <td>It fit okay in the legs however, it was extrem...</td>\n",
       "      <td>3</td>\n",
       "    </tr>\n",
       "    <tr>\n",
       "      <th>73961</th>\n",
       "      <td>It fit but I felt a like I was drowning in the...</td>\n",
       "      <td>3</td>\n",
       "    </tr>\n",
       "    <tr>\n",
       "      <th>76316</th>\n",
       "      <td>It fit loose through the waist and chest area ...</td>\n",
       "      <td>3</td>\n",
       "    </tr>\n",
       "    <tr>\n",
       "      <th>76572</th>\n",
       "      <td>It fit around the waist perfectly, but I could...</td>\n",
       "      <td>3</td>\n",
       "    </tr>\n",
       "    <tr>\n",
       "      <th>78060</th>\n",
       "      <td>It fit great on my chest but squeezed flesh th...</td>\n",
       "      <td>3</td>\n",
       "    </tr>\n",
       "    <tr>\n",
       "      <th>80049</th>\n",
       "      <td>it fit well, was a bit loose in the top but th...</td>\n",
       "      <td>3</td>\n",
       "    </tr>\n",
       "    <tr>\n",
       "      <th>81594</th>\n",
       "      <td>It fit a little tight in the rib cage. But ove...</td>\n",
       "      <td>3</td>\n",
       "    </tr>\n",
       "    <tr>\n",
       "      <th>82225</th>\n",
       "      <td>It fit a little odd around the waste.  This is...</td>\n",
       "      <td>3</td>\n",
       "    </tr>\n",
       "    <tr>\n",
       "      <th>82846</th>\n",
       "      <td>it fit a bit too big on me,</td>\n",
       "      <td>3</td>\n",
       "    </tr>\n",
       "    <tr>\n",
       "      <th>85978</th>\n",
       "      <td>It fit to snug on my hips and loose on top. I ...</td>\n",
       "      <td>3</td>\n",
       "    </tr>\n",
       "    <tr>\n",
       "      <th>86147</th>\n",
       "      <td>It fit fine but wasn't special.  Plus the sequ...</td>\n",
       "      <td>3</td>\n",
       "    </tr>\n",
       "    <tr>\n",
       "      <th>91326</th>\n",
       "      <td>It fit me a little too much like an 80's prom ...</td>\n",
       "      <td>3</td>\n",
       "    </tr>\n",
       "    <tr>\n",
       "      <th>92201</th>\n",
       "      <td>It fit big in the back. I didn't get to wear i...</td>\n",
       "      <td>3</td>\n",
       "    </tr>\n",
       "    <tr>\n",
       "      <th>100136</th>\n",
       "      <td>It fit pretty well but the dress is rather pla...</td>\n",
       "      <td>3</td>\n",
       "    </tr>\n",
       "    <tr>\n",
       "      <th>100891</th>\n",
       "      <td>It fit, but was not flattering in the stomach ...</td>\n",
       "      <td>3</td>\n",
       "    </tr>\n",
       "    <tr>\n",
       "      <th>105701</th>\n",
       "      <td>It fits well and the cut is great.  The button...</td>\n",
       "      <td>3</td>\n",
       "    </tr>\n",
       "    <tr>\n",
       "      <th>109727</th>\n",
       "      <td>It fit OK--I have a tall slender figure with s...</td>\n",
       "      <td>3</td>\n",
       "    </tr>\n",
       "    <tr>\n",
       "      <th>109728</th>\n",
       "      <td>It fits longer than expected, and the material...</td>\n",
       "      <td>3</td>\n",
       "    </tr>\n",
       "    <tr>\n",
       "      <th>112605</th>\n",
       "      <td>It fits perfect. I am 5'6\" / 140lb the only is...</td>\n",
       "      <td>3</td>\n",
       "    </tr>\n",
       "    <tr>\n",
       "      <th>118705</th>\n",
       "      <td>It fit well in the waist, but the straps kept ...</td>\n",
       "      <td>3</td>\n",
       "    </tr>\n",
       "    <tr>\n",
       "      <th>123154</th>\n",
       "      <td>It fit well - but it was a lot of fabric... I ...</td>\n",
       "      <td>3</td>\n",
       "    </tr>\n",
       "    <tr>\n",
       "      <th>131584</th>\n",
       "      <td>It fit a little like a potato sack, even with ...</td>\n",
       "      <td>3</td>\n",
       "    </tr>\n",
       "  </tbody>\n",
       "</table>\n",
       "</div>"
      ],
      "text/plain": [
       "                                                        0  1\n",
       "349     It fit well in the bust area, but was too tigh...  3\n",
       "2474                                  it fit true to size  3\n",
       "5253    It fits very large in the waist. I normally we...  3\n",
       "5929    It fit everywhere except my hips.  It was a bi...  3\n",
       "11273   It fit well. Under the arm, it was a little sc...  3\n",
       "22411                                        it fit fine   3\n",
       "26579   It fit like a glove, but the front skirt porti...  3\n",
       "31110                                  It fit perfectly!   3\n",
       "38161   It fit true to size and was very comfortable f...  3\n",
       "45637   It fit but it felt like a straight jacket.  It...  3\n",
       "48879   It fit well.  I'm 5'5\" and I wore flat (flip f...  3\n",
       "52061   It fit great in the chest area for my large bu...  3\n",
       "52643                   It fit well, and was comfortable.  3\n",
       "57268   It fit like a glove and was a beautiful materi...  3\n",
       "57929   It fit well but make sure you have some great ...  3\n",
       "59556                                       It fit great.  3\n",
       "61700   It fit TTS. \\nHowever, I would not recommend i...  3\n",
       "62533   It fit fine. It actually took away from my jum...  3\n",
       "63631   It fits nicely. The fabric is a bit shiny. It ...  3\n",
       "64993   it fit fine but it was my backup and i went wi...  3\n",
       "66573   It fits true to size and is just the right len...  3\n",
       "72604   It fit okay in the legs however, it was extrem...  3\n",
       "73961   It fit but I felt a like I was drowning in the...  3\n",
       "76316   It fit loose through the waist and chest area ...  3\n",
       "76572   It fit around the waist perfectly, but I could...  3\n",
       "78060   It fit great on my chest but squeezed flesh th...  3\n",
       "80049   it fit well, was a bit loose in the top but th...  3\n",
       "81594   It fit a little tight in the rib cage. But ove...  3\n",
       "82225   It fit a little odd around the waste.  This is...  3\n",
       "82846                         it fit a bit too big on me,  3\n",
       "85978   It fit to snug on my hips and loose on top. I ...  3\n",
       "86147   It fit fine but wasn't special.  Plus the sequ...  3\n",
       "91326   It fit me a little too much like an 80's prom ...  3\n",
       "92201   It fit big in the back. I didn't get to wear i...  3\n",
       "100136  It fit pretty well but the dress is rather pla...  3\n",
       "100891  It fit, but was not flattering in the stomach ...  3\n",
       "105701  It fits well and the cut is great.  The button...  3\n",
       "109727  It fit OK--I have a tall slender figure with s...  3\n",
       "109728  It fits longer than expected, and the material...  3\n",
       "112605  It fits perfect. I am 5'6\" / 140lb the only is...  3\n",
       "118705  It fit well in the waist, but the straps kept ...  3\n",
       "123154  It fit well - but it was a lot of fabric... I ...  3\n",
       "131584  It fit a little like a potato sack, even with ...  3"
      ]
     },
     "execution_count": 66,
     "metadata": {},
     "output_type": "execute_result"
    }
   ],
   "source": [
    "train.loc[train[0].str.lower().str.startswith('it fit') & (train[1] == 3)]"
   ]
  },
  {
   "cell_type": "code",
   "execution_count": null,
   "id": "fc359abc-0f45-408f-82cd-fbd190142a14",
   "metadata": {},
   "outputs": [],
   "source": []
  },
  {
   "cell_type": "markdown",
   "id": "622ea120-3e5d-418e-aa16-5ec03c7f2143",
   "metadata": {},
   "source": [
    "More notes:\n",
    "- There are a lot of height values. Parsing them would be important? I don't know."
   ]
  },
  {
   "cell_type": "markdown",
   "id": "d6f57d4a-6baa-4723-9dc5-0095dd80838d",
   "metadata": {},
   "source": [
    "Let's do one more metric: number of exclamation marks (!) predicts sentiment (likelihood weigh this)"
   ]
  },
  {
   "cell_type": "code",
   "execution_count": 67,
   "id": "a15f19c0-1b77-40b7-b13b-59dab852ba47",
   "metadata": {},
   "outputs": [
    {
     "data": {
      "text/plain": [
       "[<matplotlib.lines.Line2D at 0x1397168b0>]"
      ]
     },
     "execution_count": 67,
     "metadata": {},
     "output_type": "execute_result"
    },
    {
     "data": {
      "image/png": "[encoded data removed]",
      "text/plain": [
       "<Figure size 432x288 with 1 Axes>"
      ]
     },
     "metadata": {
      "needs_background": "light"
     },
     "output_type": "display_data"
    }
   ],
   "source": [
    "excl_cnt = train[0].str.count('!')\n",
    "tot_excl_cnts = sum(excl_cnt)\n",
    "excl_cnts = []\n",
    "for i in range(1,6):\n",
    "    n_excl_cnts = sum(excl_cnt.loc[train[1] == i])\n",
    "    n_cnts = len(train.loc[train[1] == 1])\n",
    "    norm_excl_cnts = (n_excl_cnts/tot_excl_cnts)*(n_cnts/len(train))\n",
    "    excl_cnts.append(norm_excl_cnts)\n",
    "\n",
    "# normalize excl_cnts to 1\n",
    "s = sum(excl_cnts)\n",
    "excl_cnts = [i/s for i in excl_cnts]\n",
    "plt.plot(range(1,6), excl_cnts)"
   ]
  },
  {
   "cell_type": "code",
   "execution_count": 68,
   "id": "757b36c6-5474-44e5-9865-90b198bc1b11",
   "metadata": {},
   "outputs": [
    {
     "data": {
      "text/plain": [
       "[0.0019011723896402782,\n",
       " 0.004536130613878558,\n",
       " 0.020696095925820925,\n",
       " 0.2069359438320298,\n",
       " 0.7659306572386305]"
      ]
     },
     "execution_count": 68,
     "metadata": {},
     "output_type": "execute_result"
    }
   ],
   "source": [
    "excl_cnts"
   ]
  },
  {
   "cell_type": "markdown",
   "id": "0227c76d-66b4-4eda-b69f-476de9416819",
   "metadata": {},
   "source": [
    "very strong correlation with seeing an exclamation mark and it being a positive review."
   ]
  },
  {
   "cell_type": "code",
   "execution_count": null,
   "id": "ee831dde-fe07-4eef-b201-6ce3d27158da",
   "metadata": {},
   "outputs": [],
   "source": []
  },
  {
   "cell_type": "code",
   "execution_count": 69,
   "id": "773c8bd1-ddd9-443a-b06a-a7079a54ca51",
   "metadata": {},
   "outputs": [],
   "source": [
    "# from collections import Counter\n",
    "# from imblearn.combine import SMOTEENN\n",
    "# from imblearn.over_sampling import RandomOverSampler\n",
    "# \n",
    "# ros = RandomOverSampler(random_state=42)\n",
    "# smote_enn = SMOTEENN(random_state=42)\n",
    "# X_resampled, y_resampled = ros.fit_resample(df[0].to_numpy().reshape(-1,1), df[1])\n",
    "# \n",
    "# print(sorted(Counter(y_resampled).items()))"
   ]
  },
  {
   "cell_type": "markdown",
   "id": "2fca8c1f-58c8-4f61-9ea8-9c2aa0c7bf76",
   "metadata": {},
   "source": [
    "## Downsampling\n",
    "\n",
    "so that my laptop doesn't spontaneously combust"
   ]
  },
  {
   "cell_type": "code",
   "execution_count": 70,
   "id": "c606cc6a-5d31-48f6-82c8-9d03a719cb36",
   "metadata": {},
   "outputs": [
    {
     "data": {
      "text/html": [
       "<div>\n",
       "<style scoped>\n",
       "    .dataframe tbody tr th:only-of-type {\n",
       "        vertical-align: middle;\n",
       "    }\n",
       "\n",
       "    .dataframe tbody tr th {\n",
       "        vertical-align: top;\n",
       "    }\n",
       "\n",
       "    .dataframe thead th {\n",
       "        text-align: right;\n",
       "    }\n",
       "</style>\n",
       "<table border=\"1\" class=\"dataframe\">\n",
       "  <thead>\n",
       "    <tr style=\"text-align: right;\">\n",
       "      <th></th>\n",
       "      <th>0</th>\n",
       "      <th>1</th>\n",
       "    </tr>\n",
       "  </thead>\n",
       "  <tbody>\n",
       "    <tr>\n",
       "      <th>0</th>\n",
       "      <td>I couldn't wear this dress it would not zip up...</td>\n",
       "      <td>1</td>\n",
       "    </tr>\n",
       "    <tr>\n",
       "      <th>1</th>\n",
       "      <td>i got this one and a green one and enved up we...</td>\n",
       "      <td>1</td>\n",
       "    </tr>\n",
       "    <tr>\n",
       "      <th>2</th>\n",
       "      <td>I received this item for a date. I was unable ...</td>\n",
       "      <td>1</td>\n",
       "    </tr>\n",
       "    <tr>\n",
       "      <th>3</th>\n",
       "      <td>Beware if you are bustier. This is not friendl...</td>\n",
       "      <td>1</td>\n",
       "    </tr>\n",
       "    <tr>\n",
       "      <th>4</th>\n",
       "      <td>Too big . Thicker material than expected. Not ...</td>\n",
       "      <td>1</td>\n",
       "    </tr>\n",
       "    <tr>\n",
       "      <th>...</th>\n",
       "      <td>...</td>\n",
       "      <td>...</td>\n",
       "    </tr>\n",
       "    <tr>\n",
       "      <th>32728</th>\n",
       "      <td>I used to wear a 10, but I lost some weight, s...</td>\n",
       "      <td>5</td>\n",
       "    </tr>\n",
       "    <tr>\n",
       "      <th>32729</th>\n",
       "      <td>Loved this dress!! It was VERY short but it di...</td>\n",
       "      <td>5</td>\n",
       "    </tr>\n",
       "    <tr>\n",
       "      <th>32730</th>\n",
       "      <td>I wore this dress for a \"cocktail\" type charit...</td>\n",
       "      <td>5</td>\n",
       "    </tr>\n",
       "    <tr>\n",
       "      <th>32731</th>\n",
       "      <td>I wore this on NYE. I ordered two dresses and ...</td>\n",
       "      <td>5</td>\n",
       "    </tr>\n",
       "    <tr>\n",
       "      <th>32732</th>\n",
       "      <td>I absolutely loved this dress! I was lucky eno...</td>\n",
       "      <td>5</td>\n",
       "    </tr>\n",
       "  </tbody>\n",
       "</table>\n",
       "<p>32733 rows × 2 columns</p>\n",
       "</div>"
      ],
      "text/plain": [
       "                                                       0  1\n",
       "0      I couldn't wear this dress it would not zip up...  1\n",
       "1      i got this one and a green one and enved up we...  1\n",
       "2      I received this item for a date. I was unable ...  1\n",
       "3      Beware if you are bustier. This is not friendl...  1\n",
       "4      Too big . Thicker material than expected. Not ...  1\n",
       "...                                                  ... ..\n",
       "32728  I used to wear a 10, but I lost some weight, s...  5\n",
       "32729  Loved this dress!! It was VERY short but it di...  5\n",
       "32730  I wore this dress for a \"cocktail\" type charit...  5\n",
       "32731  I wore this on NYE. I ordered two dresses and ...  5\n",
       "32732  I absolutely loved this dress! I was lucky eno...  5\n",
       "\n",
       "[32733 rows x 2 columns]"
      ]
     },
     "execution_count": 70,
     "metadata": {},
     "output_type": "execute_result"
    }
   ],
   "source": [
    "from imblearn.under_sampling import RandomUnderSampler\n",
    "\n",
    "rus = RandomUnderSampler(sampling_strategy={1: 749, 2: 1984, 3: 5000, 4: 10000, 5:15000})\n",
    "X, y = rus.fit_resample(train[0].to_numpy().reshape(-1,1), train[1])\n",
    "train = pd.DataFrame({0: X.flatten(), 1: y})\n",
    "train"
   ]
  },
  {
   "cell_type": "code",
   "execution_count": 71,
   "id": "c1ea9487-b460-44b7-8319-d08c6c477115",
   "metadata": {},
   "outputs": [
    {
     "data": {
      "text/plain": [
       "(array([  749.,     0.,  1984.,     0.,     0.,  5000.,     0., 10000.,\n",
       "            0., 15000.]),\n",
       " array([1. , 1.4, 1.8, 2.2, 2.6, 3. , 3.4, 3.8, 4.2, 4.6, 5. ]),\n",
       " <BarContainer object of 10 artists>)"
      ]
     },
     "execution_count": 71,
     "metadata": {},
     "output_type": "execute_result"
    },
    {
     "data": {
      "image/png": "[encoded data removed]",
      "text/plain": [
       "<Figure size 432x288 with 1 Axes>"
      ]
     },
     "metadata": {
      "needs_background": "light"
     },
     "output_type": "display_data"
    }
   ],
   "source": [
    "plt.hist(train[1])"
   ]
  },
  {
   "cell_type": "markdown",
   "id": "bd895bd4-e88b-4fbc-9324-421a6f70ebe7",
   "metadata": {},
   "source": [
    "## Splits"
   ]
  },
  {
   "cell_type": "code",
   "execution_count": 72,
   "id": "71741dd1-4c44-43f9-8296-3d4db24017a6",
   "metadata": {},
   "outputs": [
    {
     "data": {
      "text/plain": [
       "(26186, 6547)"
      ]
     },
     "execution_count": 72,
     "metadata": {},
     "output_type": "execute_result"
    }
   ],
   "source": [
    "from sklearn.model_selection import train_test_split\n",
    "\n",
    "X, y = train[0], train[1]\n",
    "\n",
    "X_train, X_val, y_train, y_val = train_test_split(X, y, test_size=0.2, random_state=42)\n",
    "train = pd.DataFrame({0: X_train, 1: y_train}) # reindexing?\n",
    "val = pd.DataFrame({0: X_val, 1: y_val})\n",
    "len(train), len(val)"
   ]
  },
  {
   "cell_type": "code",
   "execution_count": 73,
   "id": "f060d0ad-0324-4656-b993-410f468daf5c",
   "metadata": {},
   "outputs": [
    {
     "data": {
      "text/plain": [
       "(array([ 133.,    0.,  379.,    0.,    0., 1004.,    0., 2050.,    0.,\n",
       "        2981.]),\n",
       " array([1. , 1.4, 1.8, 2.2, 2.6, 3. , 3.4, 3.8, 4.2, 4.6, 5. ]),\n",
       " <BarContainer object of 10 artists>)"
      ]
     },
     "execution_count": 73,
     "metadata": {},
     "output_type": "execute_result"
    },
    {
     "data": {
      "image/png": "[encoded data removed]",
      "text/plain": [
       "<Figure size 432x288 with 1 Axes>"
      ]
     },
     "metadata": {
      "needs_background": "light"
     },
     "output_type": "display_data"
    }
   ],
   "source": [
    "plt.hist(val[1])"
   ]
  },
  {
   "cell_type": "markdown",
   "id": "9677835b-b8fe-4bb2-96f6-a8e01f050b0b",
   "metadata": {},
   "source": [
    "## Feature Extraction\n",
    "\n",
    "Tokenize -> POS tag -> negate -> stopword removal -> Stemming -> bigram + trigram extraction -> tf-idf -> tSNE embedding"
   ]
  },
  {
   "cell_type": "code",
   "execution_count": 75,
   "id": "91b5c649-3688-4968-9b25-5f64aa6a986b",
   "metadata": {},
   "outputs": [
    {
     "data": {
      "text/html": [
       "<div>\n",
       "<style scoped>\n",
       "    .dataframe tbody tr th:only-of-type {\n",
       "        vertical-align: middle;\n",
       "    }\n",
       "\n",
       "    .dataframe tbody tr th {\n",
       "        vertical-align: top;\n",
       "    }\n",
       "\n",
       "    .dataframe thead th {\n",
       "        text-align: right;\n",
       "    }\n",
       "</style>\n",
       "<table border=\"1\" class=\"dataframe\">\n",
       "  <thead>\n",
       "    <tr style=\"text-align: right;\">\n",
       "      <th></th>\n",
       "      <th>0</th>\n",
       "      <th>1</th>\n",
       "      <th>2</th>\n",
       "    </tr>\n",
       "  </thead>\n",
       "  <tbody>\n",
       "    <tr>\n",
       "      <th>7569</th>\n",
       "      <td>Fit was exactly as described. Some of the dres...</td>\n",
       "      <td>3</td>\n",
       "      <td>[Fit, was, exactly, as, described, ., Some, of...</td>\n",
       "    </tr>\n",
       "    <tr>\n",
       "      <th>6350</th>\n",
       "      <td>It was too small for me so I had to return it....</td>\n",
       "      <td>3</td>\n",
       "      <td>[It, was, too, small, for, me, so, I, had, to,...</td>\n",
       "    </tr>\n",
       "    <tr>\n",
       "      <th>15922</th>\n",
       "      <td>I got compliments on this dress all night long...</td>\n",
       "      <td>4</td>\n",
       "      <td>[I, got, compliments, on, this, dress, all, ni...</td>\n",
       "    </tr>\n",
       "    <tr>\n",
       "      <th>31220</th>\n",
       "      <td>This dress is so comfortable. The neckline was...</td>\n",
       "      <td>5</td>\n",
       "      <td>[This, dress, is, so, comfortable, ., The, nec...</td>\n",
       "    </tr>\n",
       "    <tr>\n",
       "      <th>12264</th>\n",
       "      <td>I am typically a 4 on top and 6 on bottom. I h...</td>\n",
       "      <td>4</td>\n",
       "      <td>[I, am, typically, a, 4, on, top, and, 6, on, ...</td>\n",
       "    </tr>\n",
       "    <tr>\n",
       "      <th>...</th>\n",
       "      <td>...</td>\n",
       "      <td>...</td>\n",
       "      <td>...</td>\n",
       "    </tr>\n",
       "    <tr>\n",
       "      <th>29802</th>\n",
       "      <td>IN LOVE WITH THIS DRESS! It was form-fitting, ...</td>\n",
       "      <td>5</td>\n",
       "      <td>[IN, LOVE, WITH, THIS, DRESS, !, It, was, form...</td>\n",
       "    </tr>\n",
       "    <tr>\n",
       "      <th>5390</th>\n",
       "      <td>I wore the dress for a rehearsal dinner in Cal...</td>\n",
       "      <td>3</td>\n",
       "      <td>[I, wore, the, dress, for, a, rehearsal, dinne...</td>\n",
       "    </tr>\n",
       "    <tr>\n",
       "      <th>860</th>\n",
       "      <td>Beautiful soft fabric. Did not flatter my body...</td>\n",
       "      <td>2</td>\n",
       "      <td>[Beautiful, soft, fabric, ., Did, not, flatter...</td>\n",
       "    </tr>\n",
       "    <tr>\n",
       "      <th>15795</th>\n",
       "      <td>This dress runs small for sure. I read it in t...</td>\n",
       "      <td>4</td>\n",
       "      <td>[This, dress, runs, small, for, sure, ., I, re...</td>\n",
       "    </tr>\n",
       "    <tr>\n",
       "      <th>23654</th>\n",
       "      <td>5'3, 34B and 125 lbs... fit great! So fun and ...</td>\n",
       "      <td>5</td>\n",
       "      <td>[5, ', 3, ,, 34B, and, 125, lbs, ..., fit, gre...</td>\n",
       "    </tr>\n",
       "  </tbody>\n",
       "</table>\n",
       "<p>26186 rows × 3 columns</p>\n",
       "</div>"
      ],
      "text/plain": [
       "                                                       0  1  \\\n",
       "7569   Fit was exactly as described. Some of the dres...  3   \n",
       "6350   It was too small for me so I had to return it....  3   \n",
       "15922  I got compliments on this dress all night long...  4   \n",
       "31220  This dress is so comfortable. The neckline was...  5   \n",
       "12264  I am typically a 4 on top and 6 on bottom. I h...  4   \n",
       "...                                                  ... ..   \n",
       "29802  IN LOVE WITH THIS DRESS! It was form-fitting, ...  5   \n",
       "5390   I wore the dress for a rehearsal dinner in Cal...  3   \n",
       "860    Beautiful soft fabric. Did not flatter my body...  2   \n",
       "15795  This dress runs small for sure. I read it in t...  4   \n",
       "23654  5'3, 34B and 125 lbs... fit great! So fun and ...  5   \n",
       "\n",
       "                                                       2  \n",
       "7569   [Fit, was, exactly, as, described, ., Some, of...  \n",
       "6350   [It, was, too, small, for, me, so, I, had, to,...  \n",
       "15922  [I, got, compliments, on, this, dress, all, ni...  \n",
       "31220  [This, dress, is, so, comfortable, ., The, nec...  \n",
       "12264  [I, am, typically, a, 4, on, top, and, 6, on, ...  \n",
       "...                                                  ...  \n",
       "29802  [IN, LOVE, WITH, THIS, DRESS, !, It, was, form...  \n",
       "5390   [I, wore, the, dress, for, a, rehearsal, dinne...  \n",
       "860    [Beautiful, soft, fabric, ., Did, not, flatter...  \n",
       "15795  [This, dress, runs, small, for, sure, ., I, re...  \n",
       "23654  [5, ', 3, ,, 34B, and, 125, lbs, ..., fit, gre...  \n",
       "\n",
       "[26186 rows x 3 columns]"
      ]
     },
     "execution_count": 75,
     "metadata": {},
     "output_type": "execute_result"
    }
   ],
   "source": [
    "# tokenize\n",
    "from nltk.tokenize import word_tokenize\n",
    "train[2] = train[0].apply(word_tokenize)\n",
    "val[2] = val[0].apply(word_tokenize)\n",
    "train"
   ]
  },
  {
   "cell_type": "code",
   "execution_count": 76,
   "id": "9661b356-cea4-44a5-a7c4-5d440f702041",
   "metadata": {},
   "outputs": [],
   "source": [
    "# POS tag\n",
    "import nltk\n",
    "train[3] = train[2].apply(nltk.pos_tag)\n",
    "val[3] = val[2].apply(nltk.pos_tag)\n"
   ]
  },
  {
   "cell_type": "code",
   "execution_count": 77,
   "id": "26c5c524-f3d1-4476-88ea-69e673dbb161",
   "metadata": {},
   "outputs": [],
   "source": [
    "# negation via looking at PoS: negate all adjectives/verbs from a not/n't to the next stopword/punctuation mark\n",
    "# also do lower case\n",
    "def negate(pos_arr):\n",
    "    neg_pos_arr = []\n",
    "    negating = False\n",
    "    for word in pos_arr:\n",
    "        w = word[0].lower()\n",
    "        if (w == 'not' or w == \"n't\"):\n",
    "            negating = True\n",
    "            neg_pos_arr.append((\"POS\", w, word[1]))\n",
    "            continue\n",
    "        elif (word[1] == '.' or word[1] == ':' or word[1] == 'IN' or word[1] == 'CC'):\n",
    "            negating = False\n",
    "            neg_pos_arr.append((\"POS\", w, word[1]))\n",
    "            continue\n",
    "        \n",
    "        if negating and (word[1].startswith(\"VB\") or word[1].startswith(\"JJ\")):\n",
    "            neg_pos_arr.append((\"NEG\", w, word[1]))\n",
    "        else:\n",
    "            neg_pos_arr.append((\"POS\", w, word[1]))\n",
    "    \n",
    "    return neg_pos_arr\n",
    "        \n",
    "train[4] = train[3].apply(negate)\n",
    "val[4] = val[3].apply(negate)"
   ]
  },
  {
   "cell_type": "code",
   "execution_count": 129,
   "id": "12664da9-8500-4389-b30e-0884bb011458",
   "metadata": {},
   "outputs": [],
   "source": [
    "# stopword and punctuation removal\n",
    "# we should also remove irrelevant parts of speech (DT, PRP, etc)\n",
    "from nltk.corpus import stopwords \n",
    "import re\n",
    "\n",
    "sw = set(stopwords.words('english'))\n",
    "\n",
    "def stopword_removal(pos_arr):\n",
    "    char_regex = re.compile(r\"[A-Z]+\")\n",
    "    word_arr = []\n",
    "    for word in pos_arr:\n",
    "        if (word[1] not in sw) and (word[2].isalpha() or word[1] == '!'):\n",
    "            word_arr.append(word)\n",
    "    return word_arr\n",
    "\n",
    "train[5] = train[4].apply(stopword_removal)\n",
    "val[5] = val[4].apply(stopword_removal)"
   ]
  },
  {
   "cell_type": "code",
   "execution_count": 132,
   "id": "c3b2cd0e-96a1-4cdb-a8a7-2b534df2d012",
   "metadata": {},
   "outputs": [],
   "source": [
    "# lemmatization\n",
    "from nltk.stem import WordNetLemmatizer\n",
    "\n",
    "wnl = WordNetLemmatizer()\n",
    "\n",
    "def lemmatize(pos_arr):\n",
    "    \n",
    "    # POS tag conversion\n",
    "    pos_tag_map = {\n",
    "        'J': 'a', # adjective\n",
    "        'N': 'n', # noun\n",
    "        'V': 'v', # verb\n",
    "        'R': 'r'  # adverb\n",
    "    }\n",
    "    lemmatized_list = []\n",
    "    for word in pos_arr:\n",
    "        if word[2][0] in pos_tag_map:\n",
    "            lemmatized_list.append((word[0], wnl.lemmatize(word[1], pos=pos_tag_map[word[2][0]]), word[2]))\n",
    "        else:\n",
    "            lemmatized_list.append(word)\n",
    "    return lemmatized_list\n",
    "\n",
    "train[6] = train[5].apply(lemmatize)\n",
    "val[6] = val[5].apply(lemmatize)"
   ]
  },
  {
   "cell_type": "code",
   "execution_count": 133,
   "id": "7667dad2-953c-4c7e-813e-a9a5b758f1b8",
   "metadata": {},
   "outputs": [],
   "source": [
    "# bigram/trigram extraction\n",
    "\n",
    "import re\n",
    "\n",
    "def create_ngram_extractor(ngram_pos_pattern_maps):\n",
    "    \n",
    "    def extract_ngrams(pos_arr):\n",
    "        ngrams = []\n",
    "        \n",
    "        for pattern in ngram_pos_pattern_maps:\n",
    "            for i in range(len(pos_arr)-len(pattern)):\n",
    "                fit = True\n",
    "                toks = []\n",
    "                for j in range(len(pattern)):\n",
    "                    if not pattern[j].match(pos_arr[i+j][2]):\n",
    "                        fit = False\n",
    "                        break\n",
    "                    else:\n",
    "                        toks.append(pos_arr[i+j][1])\n",
    "                if fit:\n",
    "                    ngrams.append((\"POS\", \"-\".join(toks) ,f\"{len(pattern)}GRAM\"))\n",
    "        \n",
    "        return pos_arr + ngrams\n",
    "        \n",
    "    return extract_ngrams\n",
    "\n",
    "# just an example\n",
    "ngram_conf = [\n",
    "    [re.compile(r\"[A-Z]*\"), re.compile(r\"[A-Z]*\")], # all bigrams (not containing punctuation)\n",
    "#     [re.compile(r\"VBP\"), re.compile(r\"P\")],\n",
    "    [re.compile(r\"[A-Z]*\"), re.compile(r\"[A-Z]*\"), re.compile(r\"[A-Z]*\")] # all trigrams (not containing punctuation)\n",
    "#    [re.compile(r\"VB*\"), re.compile(r\"JJ*\")]\n",
    "]\n",
    "\n",
    "train[7] = train[6].apply(create_ngram_extractor(ngram_conf))\n",
    "val[7] = val[6].apply(create_ngram_extractor(ngram_conf))"
   ]
  },
  {
   "cell_type": "code",
   "execution_count": 134,
   "id": "85c7fd51-b507-4aa9-bb95-a2932ad3ef70",
   "metadata": {},
   "outputs": [],
   "source": [
    "# concatenate to final string features\n",
    "def create_str_features(pos_tokens):\n",
    "    features = []\n",
    "    for tok in pos_tokens:\n",
    "        features.append(f\"{tok[0]}_{tok[1]}_{tok[2]}\")\n",
    "    return features\n",
    "\n",
    "train[8] = train[7].apply(create_str_features)\n",
    "val[8] = val[7].apply(create_str_features)"
   ]
  },
  {
   "cell_type": "code",
   "execution_count": 135,
   "id": "aa2afcc1-026b-4779-bd08-65ae1b1ff99e",
   "metadata": {},
   "outputs": [
    {
     "data": {
      "text/plain": [
       "<26186x792385 sparse matrix of type '<class 'numpy.float64'>'\n",
       "\twith 2151110 stored elements in Compressed Sparse Row format>"
      ]
     },
     "execution_count": 135,
     "metadata": {},
     "output_type": "execute_result"
    }
   ],
   "source": [
    "# tf-idf vectorization of final features\n",
    "from sklearn.feature_extraction.text import TfidfVectorizer\n",
    "\n",
    "def dummy_fun(doc):\n",
    "    return doc\n",
    "\n",
    "tfidf = TfidfVectorizer(\n",
    "    analyzer='word',\n",
    "    tokenizer=dummy_fun,\n",
    "    preprocessor=dummy_fun,\n",
    "    token_pattern=None\n",
    ")\n",
    "\n",
    "train_features = tfidf.fit_transform(list(train[8]))\n",
    "val_features = tfidf.transform(list(val[8]))\n",
    "train_features"
   ]
  },
  {
   "cell_type": "markdown",
   "id": "b1e2ad13-9688-40e1-a229-eb8927d9a891",
   "metadata": {},
   "source": [
    "## Models"
   ]
  },
  {
   "cell_type": "code",
   "execution_count": 146,
   "id": "2b36a67e-6a05-4334-b409-6e16733cf78d",
   "metadata": {},
   "outputs": [],
   "source": [
    "from sklearn.decomposition import TruncatedSVD\n",
    "svd = TruncatedSVD(n_components=200)\n",
    "train_decomp = svd.fit_transform(train_features)\n",
    "val_decomp = svd.transform(val_features)"
   ]
  },
  {
   "cell_type": "markdown",
   "id": "533e8a7e-6bc9-4c7e-86b3-70f08234f2f4",
   "metadata": {},
   "source": [
    "### SVM"
   ]
  },
  {
   "cell_type": "code",
   "execution_count": 147,
   "id": "3b3f0431-29e9-4879-809f-9b063f7a0e42",
   "metadata": {},
   "outputs": [
    {
     "data": {
      "text/plain": [
       "SVC()"
      ]
     },
     "execution_count": 147,
     "metadata": {},
     "output_type": "execute_result"
    }
   ],
   "source": [
    "from sklearn.svm import SVC\n",
    "svc = SVC(probability=False)\n",
    "svc.fit(train_decomp, train[1])"
   ]
  },
  {
   "cell_type": "code",
   "execution_count": 148,
   "id": "1a430678-d5e9-48b9-a026-b8c5320bd9f3",
   "metadata": {},
   "outputs": [
    {
     "data": {
      "text/plain": [
       "0.7173680592683113"
      ]
     },
     "execution_count": 148,
     "metadata": {},
     "output_type": "execute_result"
    }
   ],
   "source": [
    "from sklearn.metrics import accuracy_score\n",
    "accuracy_score(svc.predict(train_decomp), train[1])"
   ]
  },
  {
   "cell_type": "markdown",
   "id": "1dda4fa5-6cc1-4e30-af01-19c053cbbbc0",
   "metadata": {},
   "source": [
    "Not too bad :)"
   ]
  },
  {
   "cell_type": "code",
   "execution_count": 149,
   "id": "3be43484-c1a1-4466-b6b6-ac7cec1f2708",
   "metadata": {},
   "outputs": [
    {
     "data": {
      "text/plain": [
       "0.5758362608828471"
      ]
     },
     "execution_count": 149,
     "metadata": {},
     "output_type": "execute_result"
    }
   ],
   "source": [
    "svc_val_preds = svc.predict(val_decomp)\n",
    "accuracy_score(svc.predict(val_decomp), val[1])"
   ]
  },
  {
   "cell_type": "code",
   "execution_count": 150,
   "id": "5025ae70-87de-4760-ba70-e2655326d468",
   "metadata": {},
   "outputs": [
    {
     "data": {
      "text/plain": [
       "<sklearn.metrics._plot.confusion_matrix.ConfusionMatrixDisplay at 0x14103b6a0>"
      ]
     },
     "execution_count": 150,
     "metadata": {},
     "output_type": "execute_result"
    },
    {
     "data": {
      "image/png": "[encoded data removed]",
      "text/plain": [
       "<Figure size 432x288 with 2 Axes>"
      ]
     },
     "metadata": {
      "needs_background": "light"
     },
     "output_type": "display_data"
    }
   ],
   "source": [
    "from sklearn.metrics import ConfusionMatrixDisplay\n",
    "ConfusionMatrixDisplay.from_predictions(svc_val_preds, val[1])"
   ]
  },
  {
   "cell_type": "markdown",
   "id": "8ccc2341-f9d0-42cd-83d3-e8e0454b8d01",
   "metadata": {},
   "source": [
    "LMAO what now. This is clearly terrible at judging negative reviews"
   ]
  },
  {
   "cell_type": "code",
   "execution_count": 152,
   "id": "54a33b75-9ad6-4b65-948f-4f4027217bd0",
   "metadata": {},
   "outputs": [
    {
     "data": {
      "text/plain": [
       "0.4569627942582661"
      ]
     },
     "execution_count": 152,
     "metadata": {},
     "output_type": "execute_result"
    }
   ],
   "source": [
    "from sklearn.metrics import f1_score\n",
    "\n",
    "f1_micro = f1_score(svc_val_preds, val[1], average='micro') \n",
    "f1_macro = f1_score(svc_val_preds, val[1], average='macro')\n",
    "(f1_micro+f1_macro)/2"
   ]
  },
  {
   "cell_type": "code",
   "execution_count": 153,
   "id": "5ea544e3-1ed3-4a71-870f-7058c155746c",
   "metadata": {},
   "outputs": [
    {
     "data": {
      "text/plain": [
       "0.5758362608828471"
      ]
     },
     "execution_count": 153,
     "metadata": {},
     "output_type": "execute_result"
    }
   ],
   "source": [
    "f1_micro"
   ]
  },
  {
   "cell_type": "code",
   "execution_count": 154,
   "id": "165f9111-167e-4f71-80f8-4491772a7074",
   "metadata": {},
   "outputs": [
    {
     "data": {
      "text/plain": [
       "0.33808932763368504"
      ]
     },
     "execution_count": 154,
     "metadata": {},
     "output_type": "execute_result"
    }
   ],
   "source": [
    "f1_macro"
   ]
  },
  {
   "cell_type": "markdown",
   "id": "f7cb1660-9aae-40ac-a208-de36c07bc776",
   "metadata": {},
   "source": [
    "### XGBoost"
   ]
  },
  {
   "cell_type": "code",
   "execution_count": 87,
   "id": "0abf4c39-78b2-4ca3-af3a-72be35785e5a",
   "metadata": {
    "tags": []
   },
   "outputs": [],
   "source": [
    "from xgboost import XGBClassifier"
   ]
  },
  {
   "cell_type": "code",
   "execution_count": 98,
   "id": "6a172035-ed29-4ee6-854a-c9113296322a",
   "metadata": {},
   "outputs": [
    {
     "data": {
      "text/plain": [
       "XGBClassifier(base_score=0.5, booster='gbtree', callbacks=None,\n",
       "              colsample_bylevel=1, colsample_bynode=1, colsample_bytree=1,\n",
       "              early_stopping_rounds=None, enable_categorical=False,\n",
       "              eval_metric=None, gamma=0, gpu_id=-1, grow_policy='depthwise',\n",
       "              importance_type=None, interaction_constraints='',\n",
       "              learning_rate=0.300000012, max_bin=256, max_cat_to_onehot=4,\n",
       "              max_delta_step=0, max_depth=8, max_leaves=0, min_child_weight=1,\n",
       "              missing=nan, monotone_constraints='()', n_estimators=100,\n",
       "              n_jobs=0, num_parallel_tree=1, objective='multi:softprob',\n",
       "              predictor='auto', random_state=0, reg_alpha=0, ...)"
      ]
     },
     "execution_count": 98,
     "metadata": {},
     "output_type": "execute_result"
    }
   ],
   "source": [
    "clf = XGBClassifier(\n",
    "    max_depth=8,\n",
    "    n_estimators=100\n",
    ")\n",
    "clf.fit(train_decomp, train[1]-1)"
   ]
  },
  {
   "cell_type": "code",
   "execution_count": 99,
   "id": "ae863b78-9846-4046-a9cf-38165722822f",
   "metadata": {},
   "outputs": [
    {
     "data": {
      "text/plain": [
       "0.5420803421414389"
      ]
     },
     "execution_count": 99,
     "metadata": {},
     "output_type": "execute_result"
    }
   ],
   "source": [
    "xgb_preds = clf.predict(val_decomp)\n",
    "accuracy_score(val[1]-1, xgb_preds)"
   ]
  },
  {
   "cell_type": "code",
   "execution_count": 145,
   "id": "2e64d685-8a56-4877-8a19-4ac0f81c3010",
   "metadata": {},
   "outputs": [
    {
     "data": {
      "text/plain": [
       "0.4390741131035896"
      ]
     },
     "execution_count": 145,
     "metadata": {},
     "output_type": "execute_result"
    }
   ],
   "source": [
    "f1_micro = f1_score(xgb_preds, val[1]-1, average='micro') \n",
    "f1_macro = f1_score(xgb_preds, val[1]-1, average='macro')\n",
    "(f1_micro+f1_macro)/2"
   ]
  },
  {
   "cell_type": "code",
   "execution_count": 142,
   "id": "cc72b46f-bee7-411e-93c2-15c0f5c11d21",
   "metadata": {},
   "outputs": [
    {
     "data": {
      "text/plain": [
       "<sklearn.metrics._plot.confusion_matrix.ConfusionMatrixDisplay at 0x1227a1250>"
      ]
     },
     "execution_count": 142,
     "metadata": {},
     "output_type": "execute_result"
    },
    {
     "data": {
      "image/png": "[encoded data removed]",
      "text/plain": [
       "<Figure size 432x288 with 2 Axes>"
      ]
     },
     "metadata": {
      "needs_background": "light"
     },
     "output_type": "display_data"
    }
   ],
   "source": [
    "ConfusionMatrixDisplay.from_predictions(xgb_preds, val[1]-1)"
   ]
  },
  {
   "cell_type": "markdown",
   "id": "fbd20b4a-a373-463e-a1dc-7cbd1faaaf56",
   "metadata": {},
   "source": [
    "Same phenomena here. Pretty sure F1 will be terrible"
   ]
  },
  {
   "cell_type": "markdown",
   "id": "e7344ce1-4018-46ab-aa70-d1fed7fe76c8",
   "metadata": {},
   "source": [
    "### Naive Bhais"
   ]
  },
  {
   "cell_type": "code",
   "execution_count": 39,
   "id": "87b2c6f2-6cbc-4091-850d-fd89ddb4d5c7",
   "metadata": {},
   "outputs": [],
   "source": [
    "train_nb_ds = [({j: w for j, w in enumerate(row[2])}, row[1]) for i, row in train.iterrows()]\n",
    "val_nb_ds = [({j: w for j, w in enumerate(row[2])}, row[1]) for i, row in val.iterrows()]"
   ]
  },
  {
   "cell_type": "code",
   "execution_count": 40,
   "id": "421db60c-0aa1-4c56-9130-68c52f78bb83",
   "metadata": {},
   "outputs": [],
   "source": [
    "nb_clf = nltk.NaiveBayesClassifier.train(train_nb_ds)"
   ]
  },
  {
   "cell_type": "code",
   "execution_count": 41,
   "id": "69a4bb55-b8b5-455f-86c7-2830b7374d4f",
   "metadata": {},
   "outputs": [
    {
     "data": {
      "text/plain": [
       "0.35339906590555265"
      ]
     },
     "execution_count": 41,
     "metadata": {},
     "output_type": "execute_result"
    }
   ],
   "source": [
    "nltk.classify.accuracy(nb_clf, val_nb_ds)"
   ]
  },
  {
   "cell_type": "code",
   "execution_count": null,
   "id": "9bd803bf-6099-4849-a7da-0d65aeac45e6",
   "metadata": {},
   "outputs": [],
   "source": []
  }
 ],
 "metadata": {
  "kernelspec": {
   "display_name": "Python 3",
   "language": "python",
   "name": "python3"
  },
  "language_info": {
   "codemirror_mode": {
    "name": "ipython",
    "version": 3
   },
   "file_extension": ".py",
   "mimetype": "text/x-python",
   "name": "python",
   "nbconvert_exporter": "python",
   "pygments_lexer": "ipython3",
   "version": "3.9.0"
  }
 },
 "nbformat": 4,
 "nbformat_minor": 5
}
